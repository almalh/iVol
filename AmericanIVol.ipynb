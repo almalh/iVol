{
 "cells": [
  {
   "cell_type": "code",
   "execution_count": 2,
   "metadata": {},
   "outputs": [],
   "source": [
    "from math import log, sqrt, pi, exp, isclose\n",
    "import pandas as pd\n",
    "from scipy.stats import norm\n",
    "from scipy.optimize import brentq\n",
    "from datetime import datetime, date\n",
    "import numpy as np\n",
    "from yahoo_fin import options\n",
    "from yahoo_fin import stock_info as si"
   ]
  },
  {
   "cell_type": "code",
   "execution_count": 58,
   "metadata": {},
   "outputs": [
    {
     "name": "stdout",
     "output_type": "stream",
     "text": [
      "3.1473003510875723\n",
      "5.9726006994766525\n"
     ]
    }
   ],
   "source": [
    "#def binomial_american_put_pricer (S, K, t, r, q, vola, N):\n",
    "vola = 0.15\n",
    "t = 252.\n",
    "N = 252\n",
    "r = 0.1\n",
    "K = 100\n",
    "S = 100\n",
    "\n",
    "u = exp(vola*sqrt(t/252./N))\n",
    "d = exp(-vola*sqrt(t/252./N))\n",
    "R = exp(r*t/252./N)\n",
    "p = (R-d)/(u-d)\n",
    "q = 1-p\n",
    "\n",
    "#Build price tree\n",
    "\n",
    "stock = np.zeros([N + 1, N + 1])\n",
    "for i in range(N + 1):\n",
    "    for j in range(i + 1):\n",
    "        stock[j, i] = S * (u ** (i - j)) * (d ** j)\n",
    "        \n",
    "# Generate option prices recursively\n",
    "option = np.zeros([N + 1, N + 1])\n",
    "option[:, N] = np.maximum(np.zeros(N + 1), (K - stock[:, N]))\n",
    "\n",
    "for i in range(N - 1, -1, -1):\n",
    "    for j in range(i + 1):\n",
    "        option[j, i] = (\n",
    "             np.maximum(K - stock[j, i], (p * option[j, i + 1] + q * option[j + 1, i + 1]) / R)\n",
    "        )\n",
    "\n",
    "print(option[0, 0])\n",
    "\n",
    "#def binomial_american_call_pricer (S, K, t, r, q, vola, N):\n",
    "vola = 0.15\n",
    "t = 252.\n",
    "N = 252\n",
    "r = 0\n",
    "K = 100\n",
    "S = 100\n",
    "\n",
    "u = exp(vola*sqrt(t/252./N))\n",
    "d = exp(-vola*sqrt(t/252./N))\n",
    "R = exp(r*t/252./N)\n",
    "p = (R-d)/(u-d)\n",
    "q = 1-p\n",
    "\n",
    "#Build price tree\n",
    "\n",
    "stock = np.zeros([N + 1, N + 1])\n",
    "for i in range(N + 1):\n",
    "    for j in range(i + 1):\n",
    "        stock[j, i] = S * (u ** (i - j)) * (d ** j)\n",
    "        \n",
    "# Generate option prices recursively\n",
    "option = np.zeros([N + 1, N + 1])\n",
    "option[:, N] = np.maximum(np.zeros(N + 1), (stock[:, N] - K))\n",
    "\n",
    "for i in range(N - 1, -1, -1):\n",
    "    for j in range(i + 1):\n",
    "        option[j, i] = (\n",
    "             np.maximum(stock[j, i] - K, (p * option[j, i + 1] + q * option[j + 1, i + 1]) / R)\n",
    "        )\n",
    "\n",
    "print(option[0, 0])"
   ]
  },
  {
   "cell_type": "code",
   "execution_count": null,
   "metadata": {},
   "outputs": [],
   "source": []
  }
 ],
 "metadata": {
  "celltoolbar": "Tags",
  "kernelspec": {
   "display_name": "Python 3",
   "language": "python",
   "name": "python3"
  },
  "language_info": {
   "codemirror_mode": {
    "name": "ipython",
    "version": 3
   },
   "file_extension": ".py",
   "mimetype": "text/x-python",
   "name": "python",
   "nbconvert_exporter": "python",
   "pygments_lexer": "ipython3",
   "version": "3.7.4"
  }
 },
 "nbformat": 4,
 "nbformat_minor": 2
}
