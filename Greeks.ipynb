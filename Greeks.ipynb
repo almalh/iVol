{
 "cells": [
  {
   "cell_type": "code",
   "execution_count": 3,
   "metadata": {},
   "outputs": [],
   "source": [
    "import os\n",
    "from pathlib import Path\n",
    "from math import log, sqrt, pi, exp, floor\n",
    "import pandas as pd\n",
    "import matplotlib.pyplot as plt\n",
    "from scipy.stats import norm\n",
    "from scipy.optimize import brentq\n",
    "from datetime import datetime, date, timedelta\n",
    "import numpy as np\n",
    "from yahoo_fin import options\n",
    "from yahoo_fin import stock_info as si"
   ]
  },
  {
   "cell_type": "code",
   "execution_count": 9,
   "metadata": {},
   "outputs": [],
   "source": [
    "### Options info ###\n",
    "ticker = \"spy\"\n",
    "option_series = datetime(2021, 10, 15)\n",
    "data_date = datetime(2021, 8, 31)"
   ]
  },
  {
   "cell_type": "code",
   "execution_count": 12,
   "metadata": {},
   "outputs": [],
   "source": [
    "### Fetch volatility data from CSV ###\n",
    "expiration_date = option_series + timedelta(hours=16)\n",
    "path = r\"vols\"\n",
    "path = os.path.join(path, str(ticker))\n",
    "series_path = r\"series_\" + str(expiration_date.year) + r\"-\" + str(expiration_date.month) + r\"-\" + str(expiration_date.day)\n",
    "path = os.path.join(path, series_path)\n",
    "file_name = str(ticker) + \"_series_\" + str(expiration_date.month) \\\n",
    "            + r\"-\" + str(expiration_date.day) + r\"_\" + str(data_date.year) + r\"-\" \\\n",
    "            + str(data_date.month) + r\"-\" + str(data_date.day) +  r\".csv\"\n",
    "vol_data = pd.read_csv(os.path.join(path, file_name))"
   ]
  },
  {
   "cell_type": "code",
   "execution_count": 13,
   "metadata": {},
   "outputs": [
    {
     "name": "stdout",
     "output_type": "stream",
     "text": [
      "     Strike  CallImpliedVol  PutImpliedVol  At-the-money\n",
      "0     245.0        0.759067       0.621884         False\n",
      "1     250.0        0.710076       0.611585         False\n",
      "2     255.0        0.703892       0.592389         False\n",
      "3     260.0        0.688339       0.582201         False\n",
      "4     265.0        0.671362       0.571247         False\n",
      "..      ...             ...            ...           ...\n",
      "156   482.0        0.099398       0.097609         False\n",
      "157   483.0        0.099837       0.097880         False\n",
      "158   485.0        0.101444       0.097802         False\n",
      "159   490.0        0.105500       0.124076         False\n",
      "160   495.0        0.112029       0.103715         False\n",
      "\n",
      "[161 rows x 4 columns]\n"
     ]
    }
   ],
   "source": [
    "print(vol_data)"
   ]
  },
  {
   "cell_type": "code",
   "execution_count": null,
   "metadata": {},
   "outputs": [],
   "source": []
  }
 ],
 "metadata": {
  "kernelspec": {
   "display_name": "Python 3",
   "language": "python",
   "name": "python3"
  },
  "language_info": {
   "codemirror_mode": {
    "name": "ipython",
    "version": 3
   },
   "file_extension": ".py",
   "mimetype": "text/x-python",
   "name": "python",
   "nbconvert_exporter": "python",
   "pygments_lexer": "ipython3",
   "version": "3.7.4"
  }
 },
 "nbformat": 4,
 "nbformat_minor": 2
}
